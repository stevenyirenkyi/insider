{
 "cells": [
  {
   "cell_type": "code",
   "execution_count": 1,
   "metadata": {},
   "outputs": [],
   "source": [
    "import ml_modeling\n",
    "import pandas as pd"
   ]
  },
  {
   "cell_type": "code",
   "execution_count": 2,
   "metadata": {},
   "outputs": [
    {
     "name": "stdout",
     "output_type": "stream",
     "text": [
      "5 \n",
      "---------\n",
      "10 \n",
      "---------\n",
      "15 \n",
      "---------\n",
      "20 \n",
      "---------\n",
      "25 \n",
      "---------\n",
      "30 \n",
      "---------\n",
      "35 \n",
      "---------\n",
      "40 \n",
      "---------\n",
      "45 \n",
      "---------\n",
      "50 \n",
      "---------\n",
      "55 \n",
      "---------\n",
      "60 \n",
      "---------\n",
      "65 \n",
      "---------\n",
      "70 \n",
      "---------\n",
      "75 \n",
      "---------\n",
      "80 \n",
      "---------\n",
      "85 \n",
      "---------\n",
      "90 \n",
      "---------\n",
      "95 \n",
      "---------\n",
      "100 \n",
      "---------\n"
     ]
    }
   ],
   "source": [
    "data: pd.DataFrame = pd.read_csv(f\"./dataset/weekr5.2.csv\")\n",
    "\n",
    "percent_of_majority = 5\n",
    "\n",
    "while percent_of_majority <= 100:\n",
    "    print(percent_of_majority, \"\\n---------\")\n",
    "        \n",
    "    ml_modeling.run(data, percent_of_majority)\n",
    "\n",
    "    percent_of_majority += 5"
   ]
  }
 ],
 "metadata": {
  "kernelspec": {
   "display_name": "pytorch",
   "language": "python",
   "name": "python3"
  },
  "language_info": {
   "codemirror_mode": {
    "name": "ipython",
    "version": 3
   },
   "file_extension": ".py",
   "mimetype": "text/x-python",
   "name": "python",
   "nbconvert_exporter": "python",
   "pygments_lexer": "ipython3",
   "version": "3.7.16"
  },
  "orig_nbformat": 4,
  "vscode": {
   "interpreter": {
    "hash": "fb6222eb0d5585bb38b5607a51824d6a1f6d6da781b56178861490f1f07a4aeb"
   }
  }
 },
 "nbformat": 4,
 "nbformat_minor": 2
}
